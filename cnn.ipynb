{
 "metadata": {
  "language_info": {
   "codemirror_mode": {
    "name": "ipython",
    "version": 3
   },
   "file_extension": ".py",
   "mimetype": "text/x-python",
   "name": "python",
   "nbconvert_exporter": "python",
   "pygments_lexer": "ipython3",
   "version": "3.7.6-final"
  },
  "orig_nbformat": 2,
  "kernelspec": {
   "name": "python_defaultSpec_1598340287198",
   "display_name": "Python 3.7.6 64-bit"
  }
 },
 "nbformat": 4,
 "nbformat_minor": 2,
 "cells": [
  {
   "cell_type": "code",
   "execution_count": 97,
   "metadata": {},
   "outputs": [],
   "source": [
    "from imutils import paths \n",
    "import cv2\n",
    "import matplotlib.pyplot as plt \n",
    "import random \n",
    "import numpy as np \n",
    "from sklearn.preprocessing import LabelBinarizer\n",
    "\n",
    "from sklearn.model_selection import train_test_spilt\n",
    "\n",
    "%matplotlib inline \n",
    "%config InlineBackend.figure_format = 'retina'"
   ]
  },
  {
   "cell_type": "code",
   "execution_count": 98,
   "metadata": {},
   "outputs": [],
   "source": [
    "image_paths = list(paths.list_images('/Users/thiraprarom/botnoi/im_cls'))"
   ]
  },
  {
   "cell_type": "code",
   "execution_count": 143,
   "metadata": {},
   "outputs": [],
   "source": [
    "data = []\n",
    "labels = []\n",
    "\n",
    "random.shuffle(image_paths)"
   ]
  },
  {
   "cell_type": "code",
   "execution_count": 144,
   "metadata": {},
   "outputs": [],
   "source": [
    "for i in image_paths: \n",
    "    image = cv2.imread(i,cv2.IMREAD_COLOR)\n",
    "    image = cv2.resize(image, (28, 28))\n",
    "    labels.append(i.split('/')[-2])\n",
    "    data.append(image)\n",
    "\n",
    "data = np.array(data)\n",
    "data = data/255.0"
   ]
  },
  {
   "cell_type": "code",
   "execution_count": 145,
   "metadata": {},
   "outputs": [],
   "source": [
    "lb = LabelBinarizer()\n",
    "\n",
    "labels = np.array(labels)\n",
    "labels = lb.fit_transform(labels)"
   ]
  },
  {
   "cell_type": "code",
   "execution_count": 138,
   "metadata": {
    "tags": []
   },
   "outputs": [],
   "source": [
    "import tensorflow as tf \n",
    "from tensorflow.keras.datasets import mnist\n",
    "from tensorflow.keras.models import Sequential\n",
    "from tensorflow.keras.layers import Dense, Dropout\n",
    "from tensorflow.keras.layers import Flatten, MaxPool2D, Conv2D"
   ]
  },
  {
   "cell_type": "code",
   "execution_count": 146,
   "metadata": {},
   "outputs": [],
   "source": [
    "X_train, X_test, y_train, y_test = train_test_split(data, labels, test_size = 0.2, random_state = 5)"
   ]
  },
  {
   "cell_type": "code",
   "execution_count": 147,
   "metadata": {},
   "outputs": [],
   "source": [
    "n_classes = 10\n",
    "y_train = tf.keras.utils.to_categorical(y_train, n_classes)\n",
    "y_test = tf.keras.utils.to_categorical(y_test, n_classes)"
   ]
  },
  {
   "cell_type": "code",
   "execution_count": 151,
   "metadata": {},
   "outputs": [],
   "source": [
    "model = Sequential([\n",
    "    Conv2D(32, kernel_size= (3,3), activation= 'relu', input_shape = (28,28,3)),\n",
    "    Conv2D(32, kernel_size= (3,3), activation= 'relu'),\n",
    "    MaxPool2D(pool_size= (2,2)),\n",
    "    Dropout(0.25),\n",
    "    Flatten(),\n",
    "    Dense(128, activation='relu'), \n",
    "    Dropout(0.5),\n",
    "    Dense(n_classes, activation= 'softmax')\n",
    "])"
   ]
  },
  {
   "cell_type": "code",
   "execution_count": 152,
   "metadata": {},
   "outputs": [],
   "source": [
    "model.compile(loss='categorical_crossentropy', optimizer='adam', metrics=['accuracy'])"
   ]
  },
  {
   "cell_type": "code",
   "execution_count": 153,
   "metadata": {
    "tags": []
   },
   "outputs": [
    {
     "output_type": "stream",
     "name": "stdout",
     "text": "Train on 80 samples, validate on 20 samples\nEpoch 1/10\n80/80 [==============================] - 1s 9ms/sample - loss: 2.2903 - accuracy: 0.1000 - val_loss: 1.0916 - val_accuracy: 0.5000\nEpoch 2/10\n80/80 [==============================] - 0s 1ms/sample - loss: 1.1485 - accuracy: 0.5625 - val_loss: 0.7439 - val_accuracy: 0.4500\nEpoch 3/10\n80/80 [==============================] - 0s 1ms/sample - loss: 0.9114 - accuracy: 0.5000 - val_loss: 0.6899 - val_accuracy: 0.6500\nEpoch 4/10\n80/80 [==============================] - 0s 997us/sample - loss: 1.0462 - accuracy: 0.5125 - val_loss: 0.6759 - val_accuracy: 0.5500\nEpoch 5/10\n80/80 [==============================] - 0s 1ms/sample - loss: 1.0011 - accuracy: 0.5875 - val_loss: 0.6817 - val_accuracy: 0.5500\nEpoch 6/10\n80/80 [==============================] - 0s 1ms/sample - loss: 0.9399 - accuracy: 0.5375 - val_loss: 0.6613 - val_accuracy: 0.6500\nEpoch 7/10\n80/80 [==============================] - 0s 1ms/sample - loss: 0.8896 - accuracy: 0.5625 - val_loss: 0.6582 - val_accuracy: 0.6500\nEpoch 8/10\n80/80 [==============================] - 0s 1ms/sample - loss: 0.7974 - accuracy: 0.6000 - val_loss: 0.6465 - val_accuracy: 0.6500\nEpoch 9/10\n80/80 [==============================] - 0s 1ms/sample - loss: 0.6523 - accuracy: 0.6875 - val_loss: 0.6533 - val_accuracy: 0.6500\nEpoch 10/10\n80/80 [==============================] - 0s 1ms/sample - loss: 0.6897 - accuracy: 0.6250 - val_loss: 0.6637 - val_accuracy: 0.6500\n"
    },
    {
     "output_type": "execute_result",
     "data": {
      "text/plain": "<tensorflow.python.keras.callbacks.History at 0x7f96d14cd550>"
     },
     "metadata": {},
     "execution_count": 153
    }
   ],
   "source": [
    "model.fit(X_train, y_train, batch_size=128, epochs= 10, verbose= 1, validation_data= (X_test, y_test))"
   ]
  },
  {
   "cell_type": "code",
   "execution_count": 154,
   "metadata": {},
   "outputs": [],
   "source": [
    "y_pred = model.predict(X_test)"
   ]
  },
  {
   "cell_type": "code",
   "execution_count": 155,
   "metadata": {
    "tags": []
   },
   "outputs": [
    {
     "output_type": "stream",
     "name": "stdout",
     "text": "0.65\n              precision    recall  f1-score   support\n\n       condo       0.80      0.40      0.53        10\n       house       0.60      0.90      0.72        10\n\n    accuracy                           0.65        20\n   macro avg       0.70      0.65      0.63        20\nweighted avg       0.70      0.65      0.63        20\n\n"
    }
   ],
   "source": [
    "from sklearn.metrics import accuracy_score, classification_report\n",
    "print(accuracy_score(y_test.argmax(axis=1), y_pred.argmax(axis=1)))\n",
    "print(classification_report(y_test.argmax(axis=1), y_pred.argmax(axis=1), target_names=lb.classes_))"
   ]
  },
  {
   "cell_type": "code",
   "execution_count": null,
   "metadata": {},
   "outputs": [],
   "source": []
  }
 ]
}
